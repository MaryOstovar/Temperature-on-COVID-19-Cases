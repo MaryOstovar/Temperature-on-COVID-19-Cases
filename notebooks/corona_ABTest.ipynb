{
 "cells": [
  {
   "cell_type": "code",
   "execution_count": 1,
   "metadata": {
    "collapsed": true
   },
   "outputs": [],
   "source": [
    "import pandas as pd\n",
    "import numpy as np\n",
    "from sklearn import preprocessing"
   ]
  },
  {
   "cell_type": "code",
   "execution_count": 2,
   "outputs": [
    {
     "data": {
      "text/plain": "  Province/State              Country/Region          Last Update  Confirmed  \\\n0          Hubei              Mainland China  2020-03-10T15:13:05      67760   \n1            NaN                       Italy  2020-03-10T17:53:02      10149   \n2            NaN  Iran (Islamic Republic of)  2020-03-10T19:13:20       8042   \n3            NaN           Republic of Korea  2020-03-10T19:13:20       7513   \n4            NaN                      France  2020-03-10T18:53:02       1784   \n\n   Deaths  Recovered  Latitude  Longitude  Temprature  Humidity  Temp_Cat  \\\n0    3024      47743   30.9756   112.2707        12.5        86         1   \n1     631        724   43.0000    12.0000        12.9        64         1   \n2     291       2731   32.0000    53.0000        11.9         9         0   \n3      54        247   36.0000   128.0000         4.9        41         0   \n4      33         12   47.0000     2.0000        11.9        93         0   \n\n   Humid_Cat  \n0          1  \n1          1  \n2          0  \n3          0  \n4          0  ",
      "text/html": "<div>\n<style scoped>\n    .dataframe tbody tr th:only-of-type {\n        vertical-align: middle;\n    }\n\n    .dataframe tbody tr th {\n        vertical-align: top;\n    }\n\n    .dataframe thead th {\n        text-align: right;\n    }\n</style>\n<table border=\"1\" class=\"dataframe\">\n  <thead>\n    <tr style=\"text-align: right;\">\n      <th></th>\n      <th>Province/State</th>\n      <th>Country/Region</th>\n      <th>Last Update</th>\n      <th>Confirmed</th>\n      <th>Deaths</th>\n      <th>Recovered</th>\n      <th>Latitude</th>\n      <th>Longitude</th>\n      <th>Temprature</th>\n      <th>Humidity</th>\n      <th>Temp_Cat</th>\n      <th>Humid_Cat</th>\n    </tr>\n  </thead>\n  <tbody>\n    <tr>\n      <th>0</th>\n      <td>Hubei</td>\n      <td>Mainland China</td>\n      <td>2020-03-10T15:13:05</td>\n      <td>67760</td>\n      <td>3024</td>\n      <td>47743</td>\n      <td>30.9756</td>\n      <td>112.2707</td>\n      <td>12.5</td>\n      <td>86</td>\n      <td>1</td>\n      <td>1</td>\n    </tr>\n    <tr>\n      <th>1</th>\n      <td>NaN</td>\n      <td>Italy</td>\n      <td>2020-03-10T17:53:02</td>\n      <td>10149</td>\n      <td>631</td>\n      <td>724</td>\n      <td>43.0000</td>\n      <td>12.0000</td>\n      <td>12.9</td>\n      <td>64</td>\n      <td>1</td>\n      <td>1</td>\n    </tr>\n    <tr>\n      <th>2</th>\n      <td>NaN</td>\n      <td>Iran (Islamic Republic of)</td>\n      <td>2020-03-10T19:13:20</td>\n      <td>8042</td>\n      <td>291</td>\n      <td>2731</td>\n      <td>32.0000</td>\n      <td>53.0000</td>\n      <td>11.9</td>\n      <td>9</td>\n      <td>0</td>\n      <td>0</td>\n    </tr>\n    <tr>\n      <th>3</th>\n      <td>NaN</td>\n      <td>Republic of Korea</td>\n      <td>2020-03-10T19:13:20</td>\n      <td>7513</td>\n      <td>54</td>\n      <td>247</td>\n      <td>36.0000</td>\n      <td>128.0000</td>\n      <td>4.9</td>\n      <td>41</td>\n      <td>0</td>\n      <td>0</td>\n    </tr>\n    <tr>\n      <th>4</th>\n      <td>NaN</td>\n      <td>France</td>\n      <td>2020-03-10T18:53:02</td>\n      <td>1784</td>\n      <td>33</td>\n      <td>12</td>\n      <td>47.0000</td>\n      <td>2.0000</td>\n      <td>11.9</td>\n      <td>93</td>\n      <td>0</td>\n      <td>0</td>\n    </tr>\n  </tbody>\n</table>\n</div>"
     },
     "execution_count": 2,
     "metadata": {},
     "output_type": "execute_result"
    }
   ],
   "source": [
    "data = pd.read_csv('../data/Corona_Updated.csv')\n",
    "data.head()"
   ],
   "metadata": {
    "collapsed": false,
    "pycharm": {
     "name": "#%%\n"
    }
   }
  },
  {
   "cell_type": "code",
   "execution_count": 3,
   "outputs": [
    {
     "data": {
      "text/plain": "count    206.000000\nmean      12.161165\nstd       10.229763\nmin      -21.900000\n25%        6.100000\n50%       11.750000\n75%       20.375000\nmax       33.100000\nName: Temprature, dtype: float64"
     },
     "execution_count": 3,
     "metadata": {},
     "output_type": "execute_result"
    }
   ],
   "source": [
    "data['Temprature'].describe()"
   ],
   "metadata": {
    "collapsed": false,
    "pycharm": {
     "name": "#%%\n"
    }
   }
  },
  {
   "cell_type": "markdown",
   "source": [
    "تغیر ستون temp_cat\n",
    "\n",
    "اگر دما کوچکتر از ۲۴ درجه باشه برابر صفر قرار میدهیم\n",
    "\n",
    "اگر دما بزرگتر از ۲۴ باشه برابر یک قرار میدهیم"
   ],
   "metadata": {
    "collapsed": false,
    "pycharm": {
     "name": "#%% md\n"
    }
   }
  },
  {
   "cell_type": "code",
   "execution_count": 4,
   "outputs": [],
   "source": [
    "data['Temp_Cat'] = data['Temprature'].apply(lambda x: 0 if x < 24 else 1)"
   ],
   "metadata": {
    "collapsed": false,
    "pycharm": {
     "name": "#%%\n"
    }
   }
  },
  {
   "cell_type": "code",
   "execution_count": 5,
   "outputs": [
    {
     "data": {
      "text/plain": "count    206.000000\nmean       0.150485\nstd        0.358418\nmin        0.000000\n25%        0.000000\n50%        0.000000\n75%        0.000000\nmax        1.000000\nName: Temp_Cat, dtype: float64"
     },
     "execution_count": 5,
     "metadata": {},
     "output_type": "execute_result"
    }
   ],
   "source": [
    "data.Temp_Cat.describe()"
   ],
   "metadata": {
    "collapsed": false,
    "pycharm": {
     "name": "#%%\n"
    }
   }
  },
  {
   "cell_type": "markdown",
   "source": [
    "تحلیل : با افزایش و کاهش دما در نقطه ۲۴ درجه\n",
    "چه تغیری بر روی تعداد بیماران کرونا رخ میدهد\n",
    "\n",
    "ABTest\n",
    "\n",
    "دسته A | x > 24\n",
    "\n",
    "دسته B | x < 24\n",
    "\n",
    "**آیا میانگین تأیید شده ها تغیر میکند یا خیر**"
   ],
   "metadata": {
    "collapsed": false,
    "pycharm": {
     "name": "#%% md\n"
    }
   },
   "execution_count": 8
  },
  {
   "cell_type": "code",
   "execution_count": 6,
   "outputs": [],
   "source": [
    "dataA = data[data['Temp_Cat'] == 1]['Confirmed']\n",
    "dataB = data[data['Temp_Cat'] == 0]['Confirmed']"
   ],
   "metadata": {
    "collapsed": false,
    "pycharm": {
     "name": "#%%\n"
    }
   }
  },
  {
   "cell_type": "code",
   "execution_count": 7,
   "outputs": [],
   "source": [
    "mA = dataA.mean()"
   ],
   "metadata": {
    "collapsed": false,
    "pycharm": {
     "name": "#%%\n"
    }
   }
  },
  {
   "cell_type": "code",
   "execution_count": 8,
   "outputs": [],
   "source": [
    "mB = dataB.mean()"
   ],
   "metadata": {
    "collapsed": false,
    "pycharm": {
     "name": "#%%\n"
    }
   }
  },
  {
   "cell_type": "markdown",
   "source": [
    "آیا دما در افزایش تعداد کرونا تأثیر داشته یا نه\n",
    "\n",
    "محاسبه انحراف استاندارد\n",
    "\n",
    "محاسبه تعداد"
   ],
   "metadata": {
    "collapsed": false,
    "pycharm": {
     "name": "#%% md\n"
    }
   }
  },
  {
   "cell_type": "code",
   "execution_count": 9,
   "outputs": [],
   "source": [
    "sA = dataA.std()\n",
    "sB = dataB.std()"
   ],
   "metadata": {
    "collapsed": false,
    "pycharm": {
     "name": "#%%\n"
    }
   }
  },
  {
   "cell_type": "code",
   "execution_count": 10,
   "outputs": [],
   "source": [
    "nA = len(dataA)\n",
    "nB = len(dataB)"
   ],
   "metadata": {
    "collapsed": false,
    "pycharm": {
     "name": "#%%\n"
    }
   }
  },
  {
   "cell_type": "markdown",
   "source": [
    "محاسبه z-score از روی فرمول"
   ],
   "metadata": {
    "collapsed": false
   }
  },
  {
   "cell_type": "code",
   "source": [
    "from numpy import sqrt, abs, round\n",
    "from scipy.stats import norm"
   ],
   "metadata": {
    "collapsed": false,
    "pycharm": {
     "name": "#%%\n"
    }
   },
   "execution_count": 11,
   "outputs": []
  },
  {
   "cell_type": "code",
   "execution_count": 12,
   "outputs": [
    {
     "data": {
      "text/plain": "395.33329859077367"
     },
     "execution_count": 12,
     "metadata": {},
     "output_type": "execute_result"
    }
   ],
   "source": [
    "d = sqrt((sA ** 2 / nA) + (sB ** 2 / nB))\n",
    "d"
   ],
   "metadata": {
    "collapsed": false,
    "pycharm": {
     "name": "#%%\n"
    }
   }
  },
  {
   "cell_type": "code",
   "execution_count": 13,
   "outputs": [
    {
     "data": {
      "text/plain": "-646.3601843317973"
     },
     "execution_count": 13,
     "metadata": {},
     "output_type": "execute_result"
    }
   ],
   "source": [
    "n = mA - mB\n",
    "n"
   ],
   "metadata": {
    "collapsed": false,
    "pycharm": {
     "name": "#%%\n"
    }
   }
  },
  {
   "cell_type": "code",
   "execution_count": 14,
   "outputs": [
    {
     "data": {
      "text/plain": "-1.634975314844076"
     },
     "execution_count": 14,
     "metadata": {},
     "output_type": "execute_result"
    }
   ],
   "source": [
    "z = n / d\n",
    "z"
   ],
   "metadata": {
    "collapsed": false,
    "pycharm": {
     "name": "#%%\n"
    }
   }
  },
  {
   "cell_type": "markdown",
   "source": [
    "محاسبه بدون جدول z-score\n",
    "\n",
    "cdf = جمع تمام احتمالات قبل از تغیر\n",
    "\n",
    "ولی اینجا ما بعد تغیر رو نیاز داریم\n",
    "\n",
    "در نتیجه چون زیر ۵ درصد نیست نمیتوان -هایپوفوسیز رو رد کرد\n",
    "\n",
    "در نتیجه ممکن از بر اساس شانس باشه\n",
    "\n",
    "اختلاف دو میانگین خیلی زیاد هست\n",
    "\n",
    "در نتیجه درجه هوا روی مرگ میر یا مبتلایی به کرونا تأثیر ندارد\n",
    "\n",
    "نکته اگر درصد رو روی ۱۰ میزاشتیم همه ادما حمله میکنن به مناطق گرمسیر :)\n"
   ],
   "metadata": {
    "collapsed": false,
    "pycharm": {
     "name": "#%% md\n"
    }
   }
  },
  {
   "cell_type": "code",
   "execution_count": 15,
   "outputs": [
    {
     "data": {
      "text/plain": "0.10205422251419849"
     },
     "execution_count": 15,
     "metadata": {},
     "output_type": "execute_result"
    }
   ],
   "source": [
    "p_value = 2 * (1 - norm.cdf(abs(z)))\n",
    "p_value"
   ],
   "metadata": {
    "collapsed": false,
    "pycharm": {
     "name": "#%% \n"
    }
   }
  },
  {
   "cell_type": "code",
   "execution_count": 15,
   "outputs": [],
   "source": [],
   "metadata": {
    "collapsed": false,
    "pycharm": {
     "name": "#%%\n"
    }
   }
  }
 ],
 "metadata": {
  "kernelspec": {
   "display_name": "Python 3",
   "language": "python",
   "name": "python3"
  },
  "language_info": {
   "codemirror_mode": {
    "name": "ipython",
    "version": 2
   },
   "file_extension": ".py",
   "mimetype": "text/x-python",
   "name": "python",
   "nbconvert_exporter": "python",
   "pygments_lexer": "ipython2",
   "version": "2.7.6"
  }
 },
 "nbformat": 4,
 "nbformat_minor": 0
}